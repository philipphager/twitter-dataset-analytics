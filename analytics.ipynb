{
 "cells": [
  {
   "cell_type": "code",
   "execution_count": 55,
   "metadata": {},
   "outputs": [],
   "source": [
    "import dask.dataframe as dd\n",
    "from dask.distributed import Client, progress\n",
    "import glob\n",
    "from ipywidgets import interact"
   ]
  },
  {
   "cell_type": "markdown",
   "metadata": {},
   "source": [
    "## Spin up Dask Cluster"
   ]
  },
  {
   "cell_type": "code",
   "execution_count": 6,
   "metadata": {
    "scrolled": true
   },
   "outputs": [
    {
     "name": "stderr",
     "output_type": "stream",
     "text": [
      "/opt/conda/lib/python3.7/site-packages/distributed/bokeh/core.py:57: UserWarning: \n",
      "Port 8787 is already in use. \n",
      "Perhaps you already have a cluster running?\n",
      "Hosting the diagnostics dashboard on a random port instead.\n",
      "  warnings.warn('\\n' + msg)\n"
     ]
    },
    {
     "data": {
      "text/html": [
       "<table style=\"border: 2px solid white;\">\n",
       "<tr>\n",
       "<td style=\"vertical-align: top; border: 0px solid white\">\n",
       "<h3>Client</h3>\n",
       "<ul>\n",
       "  <li><b>Scheduler: </b>tcp://127.0.0.1:34263\n",
       "  <li><b>Dashboard: </b><a href='http://127.0.0.1:33185/status' target='_blank'>http://127.0.0.1:33185/status</a>\n",
       "</ul>\n",
       "</td>\n",
       "<td style=\"vertical-align: top; border: 0px solid white\">\n",
       "<h3>Cluster</h3>\n",
       "<ul>\n",
       "  <li><b>Workers: </b>2</li>\n",
       "  <li><b>Cores: </b>4</li>\n",
       "  <li><b>Memory: </b>2.00 GB</li>\n",
       "</ul>\n",
       "</td>\n",
       "</tr>\n",
       "</table>"
      ],
      "text/plain": [
       "<Client: scheduler='tcp://127.0.0.1:34263' processes=2 cores=4>"
      ]
     },
     "execution_count": 6,
     "metadata": {},
     "output_type": "execute_result"
    }
   ],
   "source": [
    "client = Client(n_workers=2, threads_per_worker=2, memory_limit='1GB')\n",
    "client"
   ]
  },
  {
   "cell_type": "markdown",
   "metadata": {},
   "source": [
    "## Analyse Data"
   ]
  },
  {
   "cell_type": "code",
   "execution_count": 65,
   "metadata": {},
   "outputs": [],
   "source": [
    "def analyse_dataset(x):\n",
    "    df = dd.read_csv(x, names=[\"user\", \"tweet\", \"edge\"])\n",
    "    \n",
    "    print(\"Basic Stats\")\n",
    "    print(\"Number of users\", df[\"user\"].nunique().compute())\n",
    "    print(\"Number of tweets\", df[\"tweet\"].nunique().compute())\n",
    "    print(\"Number of edges\", df[\"edge\"].count().compute())\n",
    "\n",
    "    print(\"\\nUser Degree Centrality\")\n",
    "    tweets_per_user = df.groupby([\"user\"])[\"tweet\"].count()\n",
    "    print(\"Average tweet interactions per user\", tweets_per_user.mean().compute())\n",
    "    print(\"Max tweet interactions per user\", tweets_per_user.max().compute())\n",
    "    print(\"Min tweet interactions per user\", tweets_per_user.min().compute())\n",
    "    print(\"50th Percentile user interactions per tweet\", tweets_per_user.quantile(0.5).compute())\n",
    "    print(\"99th Percentile user interactions per tweet\", tweets_per_user.quantile(0.9).compute())\n",
    "\n",
    "    print(\"\\nTweet Degree Centrality\")\n",
    "    users_per_tweet = df.groupby([\"tweet\"])[\"user\"].count()\n",
    "    print(\"Average user interactions per tweet\", users_per_tweet.mean().compute())\n",
    "    print(\"Min user interactions per tweet\", users_per_tweet.min().compute())\n",
    "    print(\"Max user interactions per tweet\", users_per_tweet.max().compute())\n",
    "    print(\"50th Percentile user interactions per tweet\", users_per_tweet.quantile(0.5).compute())\n",
    "    print(\"99th Percentile user interactions per tweet\", users_per_tweet.quantile(0.9).compute())"
   ]
  },
  {
   "cell_type": "code",
   "execution_count": 66,
   "metadata": {
    "scrolled": true
   },
   "outputs": [
    {
     "data": {
      "application/vnd.jupyter.widget-view+json": {
       "model_id": "99d9cc0a507d4aadb81c27efb95bcc51",
       "version_major": 2,
       "version_minor": 0
      },
      "text/plain": [
       "interactive(children=(Dropdown(description='x', options=('data/tweets-v2.csv', 'data/tweets-v1.csv'), value='d…"
      ]
     },
     "metadata": {},
     "output_type": "display_data"
    },
    {
     "data": {
      "text/plain": [
       "<function __main__.analyse_dataset(x)>"
      ]
     },
     "execution_count": 66,
     "metadata": {},
     "output_type": "execute_result"
    }
   ],
   "source": [
    "datasets = glob.glob(\"data/*.csv\")\n",
    "\n",
    "interact(analyse_dataset, x=datasets)"
   ]
  }
 ],
 "metadata": {
  "kernelspec": {
   "display_name": "Python 3",
   "language": "python",
   "name": "python3"
  },
  "language_info": {
   "codemirror_mode": {
    "name": "ipython",
    "version": 3
   },
   "file_extension": ".py",
   "mimetype": "text/x-python",
   "name": "python",
   "nbconvert_exporter": "python",
   "pygments_lexer": "ipython3",
   "version": "3.7.3"
  }
 },
 "nbformat": 4,
 "nbformat_minor": 2
}
